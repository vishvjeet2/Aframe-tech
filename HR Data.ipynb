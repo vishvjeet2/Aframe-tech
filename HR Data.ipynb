{
 "cells": [
  {
   "cell_type": "code",
   "execution_count": 14,
   "id": "614b4192",
   "metadata": {},
   "outputs": [
    {
     "name": "stdout",
     "output_type": "stream",
     "text": [
      "Data cleansing completed. Cleaned data saved to: D:\\python\\Aframe tech\\new_HR.csv\n"
     ]
    }
   ],
   "source": [
    "import pandas as pd\n",
    "import os\n",
    "\n",
    "# File path\n",
    "file_path = 'D:\\\\python\\\\Aframe tech\\\\HR.csv'\n",
    "\n",
    "# Check if the file exists\n",
    "if os.path.exists(file_path):\n",
    "    # Load the dataset into a DataFrame\n",
    "    df = pd.read_csv(file_path)\n",
    "    \n",
    "    # Define the list of columns to be removed\n",
    "    columns_to_remove = ['EmployeeCount', 'Over18', 'StandardHours']\n",
    "\n",
    "    # Remove the unnecessary columns\n",
    "    df_cleaned = df.drop(columns=columns_to_remove)\n",
    "\n",
    "    # Optionally, you can also drop columns with too many missing values or columns that are irrelevant to your analysis\n",
    "\n",
    "    # Save the cleaned dataset to a new CSV file\n",
    "    cleaned_file_path = 'D:\\\\python\\\\Aframe tech\\\\new_HR.csv'\n",
    "    df_cleaned.to_csv(cleaned_file_path, index=False)  # Replace 'new_HR.csv' with the desired file name\n",
    "    print(\"Data cleansing completed. Cleaned data saved to:\", cleaned_file_path)\n",
    "else:\n",
    "    print(\"File not found at:\", file_path)\n"
   ]
  },
  {
   "cell_type": "code",
   "execution_count": 15,
   "id": "cadf281a",
   "metadata": {},
   "outputs": [
    {
     "name": "stdout",
     "output_type": "stream",
     "text": [
      "Data cleansing and column renaming completed. Cleaned data saved to: D:\\python\\Aframe tech\\new_HR.csv\n"
     ]
    }
   ],
   "source": [
    "import pandas as pd\n",
    "import os\n",
    "\n",
    "# File path\n",
    "file_path = 'D:\\\\python\\\\Aframe tech\\\\HR.csv'\n",
    "\n",
    "# Check if the file exists\n",
    "if os.path.exists(file_path):\n",
    "    # Load the dataset into a DataFrame\n",
    "    df = pd.read_csv(file_path)\n",
    "    \n",
    "    # Define the list of columns to be removed\n",
    "    columns_to_remove = ['EmployeeCount', 'Over18', 'StandardHours']\n",
    "\n",
    "    # Remove the unnecessary columns\n",
    "    df_cleaned = df.drop(columns=columns_to_remove)\n",
    "\n",
    "    # Optionally, you can also drop columns with too many missing values or columns that are irrelevant to your analysis\n",
    "    \n",
    "    # Rename the columns\n",
    "    new_column_names = {\n",
    "        'Age': 'Age_new',\n",
    "        'Attrition': 'Attrition_new',\n",
    "        'BusinessTravel': 'BusinessTravel_new',\n",
    "        # Add other columns and their new names as needed\n",
    "    }\n",
    "    df_cleaned = df_cleaned.rename(columns=new_column_names)\n",
    "\n",
    "    # Save the cleaned dataset to a new CSV file\n",
    "    cleaned_file_path = 'D:\\\\python\\\\Aframe tech\\\\new_HR.csv'\n",
    "    df_cleaned.to_csv(cleaned_file_path, index=False)  # Replace 'new_HR.csv' with the desired file name\n",
    "    print(\"Data cleansing and column renaming completed. Cleaned data saved to:\", cleaned_file_path)\n",
    "else:\n",
    "    print(\"File not found at:\", file_path)\n"
   ]
  },
  {
   "cell_type": "code",
   "execution_count": 21,
   "id": "e011f26f",
   "metadata": {},
   "outputs": [
    {
     "name": "stdout",
     "output_type": "stream",
     "text": [
      "Data cleansing and duplicate elimination completed. Cleaned data saved to: D:\\python\\Aframe tech\\cleaned_HR.csv\n"
     ]
    }
   ],
   "source": [
    "import pandas as pd\n",
    "import os\n",
    "\n",
    "# File path\n",
    "file_path = 'D:\\\\python\\\\Aframe tech\\\\HR.csv'\n",
    "\n",
    "# Check if the file exists\n",
    "if os.path.exists(file_path):\n",
    "    # Load the dataset into a DataFrame\n",
    "    df = pd.read_csv(file_path)\n",
    "    \n",
    "    # Define the list of columns to be removed\n",
    "    columns_to_remove = ['EmployeeCount', 'Over18', 'StandardHours']\n",
    "\n",
    "    # Remove the unnecessary columns\n",
    "    df_cleaned = df.drop(columns=columns_to_remove)\n",
    "\n",
    "    # Optionally, you can also drop columns with too many missing values or columns that are irrelevant to your analysis\n",
    "    \n",
    "    # Eliminate redundant entries\n",
    "    df_cleaned = df_cleaned.drop_duplicates()\n",
    "\n",
    "    # Save the cleaned dataset to a new CSV file\n",
    "    cleaned_file_path = 'D:\\\\python\\\\Aframe tech\\\\cleaned_HR.csv'\n",
    "    df_cleaned.to_csv(cleaned_file_path, index=False)  # Replace 'cleaned_HR.csv' with the desired file name\n",
    "    print(\"Data cleansing and duplicate elimination completed. Cleaned data saved to:\", cleaned_file_path)\n",
    "else:\n",
    "    print(\"File not found at:\", file_path)\n"
   ]
  },
  {
   "cell_type": "code",
   "execution_count": 20,
   "id": "9a50a582",
   "metadata": {},
   "outputs": [
    {
     "name": "stdout",
     "output_type": "stream",
     "text": [
      "Data cleansing and column sanitization completed. Cleaned data saved to: D:\\python\\Aframe tech\\sanitized_HR.csv\n"
     ]
    }
   ],
   "source": [
    "import pandas as pd\n",
    "import os\n",
    "\n",
    "# Define custom cleaning functions\n",
    "def sanitize_column(value):\n",
    "    # Example sanitization: Convert string to uppercase\n",
    "    if isinstance(value, str):\n",
    "        return value.upper()\n",
    "    else:\n",
    "        return value\n",
    "\n",
    "# File path\n",
    "file_path = 'D:\\\\python\\\\Aframe tech\\\\HR.csv'\n",
    "\n",
    "# Check if the file exists\n",
    "if os.path.exists(file_path):\n",
    "    # Load the dataset into a DataFrame\n",
    "    df = pd.read_csv(file_path)\n",
    "    \n",
    "    # Define the list of columns to be sanitized\n",
    "    columns_to_sanitize = ['Department', 'EducationField']  # Example columns to be sanitized\n",
    "\n",
    "    # Sanitize specific columns\n",
    "    for col in columns_to_sanitize:\n",
    "        df[col] = df[col].apply(sanitize_column)\n",
    "\n",
    "    # Optionally, you can add more custom cleaning logic as needed for each column\n",
    "\n",
    "    # Save the cleaned dataset to a new CSV file\n",
    "    cleaned_file_path = 'D:\\\\python\\\\Aframe tech\\\\sanitized_HR.csv'\n",
    "    df.to_csv(cleaned_file_path, index=False)  # Replace 'sanitized_HR.csv' with the desired file name\n",
    "    print(\"Data cleansing and column sanitization completed. Cleaned data saved to:\", cleaned_file_path)\n",
    "else:\n",
    "    print(\"File not found at:\", file_path)\n"
   ]
  },
  {
   "cell_type": "code",
   "execution_count": 22,
   "id": "0c37b38d",
   "metadata": {},
   "outputs": [
    {
     "name": "stdout",
     "output_type": "stream",
     "text": [
      "Data cleansing and NaN value elimination completed. Cleaned data saved to: D:\\python\\Aframe tech\\cleaned_HR.csv\n"
     ]
    }
   ],
   "source": [
    "import pandas as pd\n",
    "import os\n",
    "\n",
    "# File path\n",
    "file_path = 'D:\\\\python\\\\Aframe tech\\\\HR.csv'\n",
    "\n",
    "# Check if the file exists\n",
    "if os.path.exists(file_path):\n",
    "    # Load the dataset into a DataFrame\n",
    "    df = pd.read_csv(file_path)\n",
    "    \n",
    "    # Define the list of columns to be removed\n",
    "    columns_to_remove = ['EmployeeCount', 'Over18', 'StandardHours']\n",
    "\n",
    "    # Remove the unnecessary columns\n",
    "    df_cleaned = df.drop(columns=columns_to_remove)\n",
    "\n",
    "    # Optionally, you can also drop columns with too many missing values or columns that are irrelevant to your analysis\n",
    "    \n",
    "    # Eliminate NaN values\n",
    "    df_cleaned = df_cleaned.dropna()\n",
    "\n",
    "    # Save the cleaned dataset to a new CSV file\n",
    "    cleaned_file_path = 'D:\\\\python\\\\Aframe tech\\\\cleaned_HR.csv'\n",
    "    df_cleaned.to_csv(cleaned_file_path, index=False)  # Replace 'cleaned_HR.csv' with the desired file name\n",
    "    print(\"Data cleansing and NaN value elimination completed. Cleaned data saved to:\", cleaned_file_path)\n",
    "else:\n",
    "    print(\"File not found at:\", file_path)\n"
   ]
  },
  {
   "cell_type": "code",
   "execution_count": null,
   "id": "b0115a2e",
   "metadata": {},
   "outputs": [],
   "source": []
  }
 ],
 "metadata": {
  "kernelspec": {
   "display_name": "Python 3 (ipykernel)",
   "language": "python",
   "name": "python3"
  },
  "language_info": {
   "codemirror_mode": {
    "name": "ipython",
    "version": 3
   },
   "file_extension": ".py",
   "mimetype": "text/x-python",
   "name": "python",
   "nbconvert_exporter": "python",
   "pygments_lexer": "ipython3",
   "version": "3.9.12"
  }
 },
 "nbformat": 4,
 "nbformat_minor": 5
}
